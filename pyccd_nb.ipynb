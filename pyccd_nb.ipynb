{
 "cells": [
  {
   "cell_type": "markdown",
   "metadata": {},
   "source": [
    "## Notebook for training data collection for measures"
   ]
  },
  {
   "cell_type": "code",
   "execution_count": 1,
   "metadata": {},
   "outputs": [],
   "source": [
    "import tstools.classes as classes\n",
    "import ipywidgets\n",
    "from ipywidgets import HBox, VBox, Box, HTML\n",
    "import ee"
   ]
  },
  {
   "cell_type": "code",
   "execution_count": 2,
   "metadata": {},
   "outputs": [
    {
     "data": {
      "application/vnd.jupyter.widget-view+json": {
       "model_id": "e7dff25e88f6480e99704cacaad64cb8",
       "version_major": 2,
       "version_minor": 0
      },
      "text/plain": [
       "HTML(value='<style>.container { width:100% !important; }</style>')"
      ]
     },
     "metadata": {},
     "output_type": "display_data"
    }
   ],
   "source": [
    "# Allow Jupyter display to be 100% the width of the browser\n",
    "display(ipywidgets.HTML('<style>.container { width:100% !important; }</style>'))"
   ]
  },
  {
   "cell_type": "code",
   "execution_count": 3,
   "metadata": {},
   "outputs": [],
   "source": [
    "# Authenticate to the Earth Engine servers, and initialize the ee module.\n",
    "ee.Initialize()"
   ]
  },
  {
   "cell_type": "code",
   "execution_count": null,
   "metadata": {},
   "outputs": [],
   "source": []
  },
  {
   "cell_type": "code",
   "execution_count": 4,
   "metadata": {},
   "outputs": [],
   "source": [
    "# Get a measures object\n",
    "pnb = classes.pyccd_explorer()"
   ]
  },
  {
   "cell_type": "code",
   "execution_count": 5,
   "metadata": {},
   "outputs": [],
   "source": [
    "# Organize all the pieces\n",
    "\n",
    "# Right box\n",
    "\n",
    "# Load data and spreadsheet\n",
    "load_data = HBox(children=[pnb.load_button])\n",
    "\n",
    "tab1 = VBox(children=[load_data])\n",
    "\n",
    "\n",
    "# Left box\n",
    "navigate_samples = HBox(children=[pnb.previous_pt, pnb.next_pt])\n",
    "sample_pyccd = HBox([pnb.pyccd_button, pnb.pt_message, pnb.kml_link])\n",
    "sample_ts_box = VBox([navigate_samples, sample_pyccd])\n",
    "clicked_ts_box = VBox([pnb.pyccd_button2, pnb.idBox])\n",
    "ts_tab = HBox([sample_ts_box, clicked_ts_box])\n",
    "\n",
    "stretch_tab1 = VBox([pnb.image_band_1, pnb.image_band_2, \n",
    "                    pnb.image_band_3, pnb.stretch_min,\n",
    "                    pnb.stretch_max, pnb.color_check,\n",
    "                    pnb.clear_layers])\n",
    "\n",
    "stretch_tab2 = VBox([HTML(value=\"<b>SAMPLE TS</b>\"), pnb.band_selector1, pnb.ylim, pnb.xlim, HTML(value=\"<b>CLICKED TS</b>\"), \n",
    "                     pnb.band_selector2, pnb.ylim2, pnb.xlim2])\n",
    "\n",
    "stretch_tab = HBox([stretch_tab1, stretch_tab2])\n",
    "# Tabulate the different boxes\n",
    "interp_tab = ipywidgets.Tab(children=[tab1, ts_tab, stretch_tab], layout=ipywidgets.Layout(width='50%', min_height='400px', max_height='400px'))\n",
    "interp_tab.set_title(0, 'Load')\n",
    "interp_tab.set_title(1, 'Controls')\n",
    "interp_tab.set_title(2, 'Display')\n",
    "\n",
    "# Time series plots\n",
    "fig = ipywidgets.Tab(children=[pnb.fig, pnb.fig3, pnb.fig2])\n",
    "fig.set_title(0, 'Sample TS')\n",
    "fig.set_title(1, 'Sample DOY')\n",
    "fig.set_title(2, 'Clicked TS')\n",
    "\n",
    "# Put the boxes together\n",
    "controls = HBox([pnb.m, interp_tab])\n",
    "\n",
    "# Put the boxes with the time series\n",
    "tabfig = VBox([controls, fig])"
   ]
  },
  {
   "cell_type": "code",
   "execution_count": 6,
   "metadata": {
    "scrolled": false
   },
   "outputs": [
    {
     "data": {
      "application/vnd.jupyter.widget-view+json": {
       "model_id": "2df89571f2b9441c8c2400af03277567",
       "version_major": 2,
       "version_minor": 0
      },
      "text/plain": [
       "VBox(children=(HBox(children=(Map(basemap={'url': 'http://server.arcgisonline.com/ArcGIS/rest/services/World_S…"
      ]
     },
     "metadata": {},
     "output_type": "display_data"
    }
   ],
   "source": [
    "display(tabfig)\n",
    "# ancillary data\n",
    "# notebooks/MEaSUREs-9dc49ca010f9.json\n",
    "# MEaSUREs_ELB\n",
    "# users/parevalo_bu/sample_13_15_labels_pts"
   ]
  },
  {
   "cell_type": "code",
   "execution_count": null,
   "metadata": {},
   "outputs": [],
   "source": []
  }
 ],
 "metadata": {
  "kernelspec": {
   "display_name": "Python 3",
   "language": "python",
   "name": "python3"
  },
  "language_info": {
   "codemirror_mode": {
    "name": "ipython",
    "version": 3
   },
   "file_extension": ".py",
   "mimetype": "text/x-python",
   "name": "python",
   "nbconvert_exporter": "python",
   "pygments_lexer": "ipython3",
   "version": "3.6.5"
  }
 },
 "nbformat": 4,
 "nbformat_minor": 2
}
