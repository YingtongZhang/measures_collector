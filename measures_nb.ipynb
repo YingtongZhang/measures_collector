{
 "cells": [
  {
   "cell_type": "markdown",
   "metadata": {},
   "source": [
    "## Notebook for training data collection for measures"
   ]
  },
  {
   "cell_type": "code",
   "execution_count": 1,
   "metadata": {},
   "outputs": [],
   "source": [
    "import tstools.classes as classes\n",
    "import ipywidgets\n",
    "from ipywidgets import HBox, VBox, Box, HTML\n",
    "import ee"
   ]
  },
  {
   "cell_type": "code",
   "execution_count": 2,
   "metadata": {},
   "outputs": [
    {
     "data": {
      "application/vnd.jupyter.widget-view+json": {
       "model_id": "7440a4bc0cab43d1a005be328eea2208",
       "version_major": 2,
       "version_minor": 0
      },
      "text/plain": [
       "HTML(value='<style>.container { width:100% !important; }</style>')"
      ]
     },
     "metadata": {},
     "output_type": "display_data"
    }
   ],
   "source": [
    "# Allow Jupyter display to be 100% the width of the browser\n",
    "display(ipywidgets.HTML('<style>.container { width:100% !important; }</style>'))"
   ]
  },
  {
   "cell_type": "code",
   "execution_count": 3,
   "metadata": {},
   "outputs": [],
   "source": [
    "# Authenticate to the Earth Engine servers, and initialize the ee module.\n",
    "ee.Initialize()"
   ]
  },
  {
   "cell_type": "code",
   "execution_count": 4,
   "metadata": {},
   "outputs": [],
   "source": [
    "# Get a measures object\n",
    "mnb = classes.measures()"
   ]
  },
  {
   "cell_type": "code",
   "execution_count": 5,
   "metadata": {},
   "outputs": [],
   "source": [
    "# Organize all the pieces\n",
    "\n",
    "# Right box\n",
    "\n",
    "# Load data and spreadsheet (tab 1)\n",
    "load_data = HBox(children=[mnb.load_button, mnb.valid_load])\n",
    "tab1 = VBox(children=[mnb.spreadsheet, mnb.spreadName, mnb.sampleWidget,\n",
    "                      load_data])\n",
    "\n",
    "# Land cover information (tab 2)\n",
    "dropBox1= VBox(children=[mnb.years,\n",
    "                         mnb.drop0,\n",
    "                         mnb.drop1,\n",
    "                         mnb.drop2,\n",
    "                         mnb.drop3,\n",
    "                         mnb.drop4])\n",
    "\n",
    "dropBox2= VBox(children=[mnb.drop5,\n",
    "                         mnb.drop6,\n",
    "                         mnb.drop7,\n",
    "                         mnb.drop8,\n",
    "                         mnb.veg_selector])\n",
    "dropBoxBoth = HBox(children=[dropBox1, dropBox2])\n",
    "tab2_label = ipywidgets.Label('Segment Land Cover Information')\n",
    "confidence_label = ipywidgets.Label('Confidence in segment land cover attributes:')\n",
    "tab2_bottom = HBox(children=[VBox([confidence_label,mnb.confidence]),mnb.notes,])\n",
    "tab2 = VBox(children=[tab2_label, dropBoxBoth, tab2_bottom])\n",
    "\n",
    "# Change agents (tab 3)\n",
    "change_agents = VBox(children=[mnb.drop9,\n",
    "                      mnb.direction,\n",
    "                      mnb.break_year,\n",
    "                      mnb.break_years])\n",
    "change_conf = VBox(children=[mnb.change_selector, mnb.change_other,\n",
    "                             HTML(value=\"<b>Confidence in Change Agent:</b>\"), mnb.ca_confidence])\n",
    "tab3 = HBox(children=[change_agents, change_conf])\n",
    "\n",
    "# Confidence and save (tab 4)\n",
    "tab4 = VBox(children=[mnb.error_label,\n",
    "                      mnb.valid,\n",
    "                      mnb.save_button])\n",
    "\n",
    "# Table of previous interpretation info for ID (tab 5)\n",
    "tab5 = VBox(children=[mnb.table_widget, mnb.delete_rows])\n",
    "\n",
    "# Controls to navigate samples and pyccd (tab 6 - now 2)\n",
    "navigate_label1 = ipywidgets.Label('Sample:')\n",
    "navigate_label2 = ipywidgets.Label('Click Map:')\n",
    "\n",
    "navigate_samples = VBox(children=[navigate_label1, mnb.previous_pt, mnb.next_pt, mnb.pt_message, mnb.kml_link])\n",
    "sample_pyccd = VBox([navigate_label1, mnb.pyccd_button, mnb.toggle_pyccd_button]) \n",
    "click_pyccd = VBox([navigate_label2, mnb.pyccd_button2, mnb.toggle_pyccd_button2])\n",
    "\n",
    "sample_ts_box = VBox([navigate_samples, sample_pyccd, click_pyccd])\n",
    "clicked_ts_box = VBox([mnb.pyccd_button2, mnb.idBox])\n",
    "_tab6 = HBox([navigate_samples, sample_pyccd, click_pyccd])\n",
    "\n",
    "zoom = HBox([HTML('Zoom: '), mnb.zoom_box])\n",
    "tab6 = VBox([_tab6, mnb.coord_message, zoom, mnb.return_button])\n",
    "\n",
    "\n",
    "# Stretch and time series display (tab 7)\n",
    "stretch_tab = VBox([mnb.image_band_1, mnb.image_band_2, \n",
    "                    mnb.image_band_3, mnb.stretch_min,\n",
    "                    mnb.stretch_max, mnb.color_check,\n",
    "                    mnb.clear_layers])\n",
    "\n",
    "display_tab = VBox([HTML(value=\"<b>SAMPLE TS</b>\"), mnb.band_selector1, mnb.ylim, mnb.xlim, HTML(value=\"<b>CLICKED TS</b>\"), \n",
    "                     mnb.band_selector2, mnb.ylim2, mnb.xlim2])\n",
    "\n",
    "tab7 = HBox([stretch_tab, display_tab])\n",
    "\n",
    "# Tabulate the different boxes\n",
    "interp_tab = ipywidgets.Tab(children=[tab1, tab6, tab2, tab3, tab4, tab5, tab7], \n",
    "                            layout=ipywidgets.Layout(width='50%', min_height='400px', max_height='400px'))\n",
    "\n",
    "interp_tab.set_title(0, 'Load')\n",
    "interp_tab.set_title(1, 'Controls')\n",
    "\n",
    "interp_tab.set_title(2, 'Land Cover')\n",
    "interp_tab.set_title(3, 'Segment Change')\n",
    "\n",
    "# TODO: Break info\n",
    "interp_tab.set_title(4, 'Interpretation')\n",
    "interp_tab.set_title(5, 'Table')\n",
    "interp_tab.set_title(6, 'Display')\n",
    "\n",
    "# Time series plots\n",
    "fig = ipywidgets.Tab(children=[mnb.fig, mnb.fig3, mnb.fig2])\n",
    "fig.set_title(0, 'Sample TS')\n",
    "fig.set_title(1, 'Sample DOY')\n",
    "fig.set_title(2, 'Clicked TS')\n",
    "\n",
    "# Put the boxes together\n",
    "controls = HBox([mnb.m, interp_tab])\n",
    "\n",
    "# Put the boxes with the time series\n",
    "tabfig = VBox([controls, fig])"
   ]
  },
  {
   "cell_type": "code",
   "execution_count": 6,
   "metadata": {
    "scrolled": false
   },
   "outputs": [
    {
     "data": {
      "application/vnd.jupyter.widget-view+json": {
       "model_id": "905541bcc4154043b8833ffe07a9c713",
       "version_major": 2,
       "version_minor": 0
      },
      "text/plain": [
       "VBox(children=(HBox(children=(Map(basemap={'url': 'http://server.arcgisonline.com/ArcGIS/rest/services/World_S…"
      ]
     },
     "metadata": {},
     "output_type": "display_data"
    }
   ],
   "source": [
    "display(tabfig)\n",
    "# notebooks/MEaSUREs-9dc49ca010f9.json\n",
    "# MEaSUREs_ELB\n",
    "# users/parevalo_bu/sample_13_15_labels_pts"
   ]
  },
  {
   "cell_type": "code",
   "execution_count": 7,
   "metadata": {},
   "outputs": [
    {
     "data": {
      "application/vnd.jupyter.widget-view+json": {
       "model_id": "27cac55a9535456b96e49470000ee514",
       "version_major": 2,
       "version_minor": 0
      },
      "text/plain": [
       "Label(value='Segment Land Cover Information')"
      ]
     },
     "metadata": {},
     "output_type": "display_data"
    }
   ],
   "source": []
  },
  {
   "cell_type": "code",
   "execution_count": null,
   "metadata": {},
   "outputs": [],
   "source": []
  },
  {
   "cell_type": "code",
   "execution_count": null,
   "metadata": {},
   "outputs": [],
   "source": []
  },
  {
   "cell_type": "code",
   "execution_count": null,
   "metadata": {},
   "outputs": [],
   "source": []
  }
 ],
 "metadata": {
  "kernelspec": {
   "display_name": "Python 3",
   "language": "python",
   "name": "python3"
  },
  "language_info": {
   "codemirror_mode": {
    "name": "ipython",
    "version": 3
   },
   "file_extension": ".py",
   "mimetype": "text/x-python",
   "name": "python",
   "nbconvert_exporter": "python",
   "pygments_lexer": "ipython3",
   "version": "3.6.5"
  }
 },
 "nbformat": 4,
 "nbformat_minor": 2
}
