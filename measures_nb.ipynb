{
 "cells": [
  {
   "cell_type": "markdown",
   "metadata": {},
   "source": [
    "## Notebook for training data collection for measures"
   ]
  },
  {
   "cell_type": "code",
   "execution_count": 9,
   "metadata": {},
   "outputs": [],
   "source": [
    "import tstools.measures as mclass\n",
    "import ipywidgets\n",
    "from ipywidgets import HBox, VBox, Box, HTML\n",
    "import ee\n",
    "import warnings"
   ]
  },
  {
   "cell_type": "code",
   "execution_count": 10,
   "metadata": {},
   "outputs": [
    {
     "data": {
      "application/vnd.jupyter.widget-view+json": {
       "model_id": "2e4d773c22c14e8f80507c7219c6ef4d",
       "version_major": 2,
       "version_minor": 0
      },
      "text/plain": [
       "HTML(value='<style>.container { width:100% !important; }</style>')"
      ]
     },
     "metadata": {},
     "output_type": "display_data"
    }
   ],
   "source": [
    "# Allow Jupyter display to be 100% the width of the browser\n",
    "display(ipywidgets.HTML('<style>.container { width:100% !important; }</style>'))\n",
    "# Disable pandas and ccd warnings\n",
    "warnings.filterwarnings('ignore')"
   ]
  },
  {
   "cell_type": "code",
   "execution_count": 3,
   "metadata": {},
   "outputs": [],
   "source": [
    "# Authenticate to the Earth Engine servers, and initialize the ee module.\n",
    "ee.Initialize()"
   ]
  },
  {
   "cell_type": "code",
   "execution_count": 4,
   "metadata": {},
   "outputs": [],
   "source": [
    "# Get a measures object\n",
    "mnb = mclass.measures()"
   ]
  },
  {
   "cell_type": "code",
   "execution_count": 5,
   "metadata": {},
   "outputs": [],
   "source": [
    "# Organize all widgets\n",
    "\n",
    "# Tab 1: Load data and spreadsheet\n",
    "load_data = HBox(children=[mnb.load_button, mnb.valid_load])\n",
    "tab1 = VBox(children=[mnb.spreadsheet, mnb.spreadName, mnb.sampleWidget,\n",
    "                      load_data])\n",
    "\n",
    "# Tab 2: Controls to navigate samples and pyccd\n",
    "navigate_label1 = HTML(value=\"<b>Sample:</b>\")\n",
    "navigate_label2 = HTML(value=\"<b>Click Map:</b>\")\n",
    "\n",
    "navigate_samples = VBox(children=[navigate_label1, mnb.previous_pt, mnb.next_pt, mnb.pt_message, mnb.kml_link])\n",
    "sample_pyccd = VBox([navigate_label1, mnb.pyccd_button, mnb.toggle_pyccd_button]) \n",
    "click_pyccd = VBox([navigate_label2, mnb.pyccd_button2, mnb.toggle_pyccd_button2])\n",
    "\n",
    "sample_ts_box = VBox([navigate_samples, sample_pyccd, click_pyccd])\n",
    "clicked_ts_box = VBox([mnb.pyccd_button2, mnb.idBox])\n",
    "_tab2 = HBox([navigate_samples, sample_pyccd, click_pyccd])\n",
    "\n",
    "zoom = HBox([mnb.zoom_box, mnb.click_train])\n",
    "tab2 = VBox([_tab2, mnb.sample_coord_message, mnb.click_coord_message, zoom, mnb.return_button, HBox([HTML('Go to:'), mnb.idBox])])\n",
    "\n",
    "# Tab 3: Land cover information\n",
    "dropBox1= VBox(children=[mnb.years,\n",
    "                         mnb.drop0,\n",
    "                         mnb.drop1,\n",
    "                         mnb.drop2,\n",
    "                         mnb.drop3,\n",
    "                         mnb.drop4])\n",
    "\n",
    "dropBox2= VBox(children=[mnb.drop5,\n",
    "                         mnb.drop6,\n",
    "                         mnb.drop7,\n",
    "                         mnb.drop8,\n",
    "                         mnb.veg_selector])\n",
    "dropBoxBoth = HBox(children=[dropBox1, dropBox2])\n",
    "tab3_label = HTML(value=\"<b>Segment Land Cover Information:</b>\")\n",
    "confidence_label = HTML(value=\"<b>Confidence in segment land cover attributes:</b>\")\n",
    "tab3_bottom = HBox(children=[VBox([confidence_label,mnb.confidence]),mnb.notes,])\n",
    "tab3 = VBox(children=[tab3_label, dropBoxBoth, tab3_bottom])\n",
    "\n",
    "\n",
    "# Tab 4: Segment information\n",
    "st_conf_label = HTML(value=\"<b>Confidence in Change Agent:</b>\")\n",
    "st_drop_label = HTML(value=\"<b>Segment Type:</b>\")\n",
    "st_lc_label = HTML(value=\"<b>Land Cover Change Direction:</b>\")\n",
    "st_notes_label = HTML(value=\"<b>Notes:</b>\")\n",
    "\n",
    "st_label = ipywidgets.Label('Segment Time Trend')\n",
    "st_col1 = VBox(children=[st_drop_label,\n",
    "                         mnb.drop9, \n",
    "                         st_lc_label,\n",
    "                         mnb.direction \n",
    "                         ])\n",
    "\n",
    "conf_notes = HBox(children=[VBox([st_conf_label, mnb.ca_confidence]), VBox([st_notes_label, mnb.notes_seg_trend])]) # Need new notes\n",
    "st_selector_label = HTML(value=\"<b>Change Agent:</b>\")\n",
    "\n",
    "st_col2 = VBox(children=[st_selector_label, mnb.change_selector, mnb.change_other])\n",
    "# st_row2 = mnb.notes # TODO: New notes widget\n",
    "st_row3 = HBox(children=[mnb.valid, mnb.save_button])\n",
    "\n",
    "tab4_row1 = HBox(children=[st_col1, st_col2])\n",
    "tab4 = VBox(children=[tab4_row1, conf_notes, st_row3])\n",
    "\n",
    "\n",
    "# Tab 5: Break information\n",
    "b_conf_label = HTML(value=\"<b>Confidence in Break Attributes:</b>\")\n",
    "b_label = HTML(value=\"<b>Break Information</b>\")\n",
    "navigate_label2 = HTML(value=\"<b>Click Map:</b>\")\n",
    "b_col1 = VBox(children=[b_label, mnb.break_check, mnb.break_year, mnb.break_years, st_lc_label, mnb.b_direction, HBox([mnb.b_valid, mnb.b_save_button])])\n",
    "\n",
    "b_col2 = VBox(children=[st_selector_label, mnb.b_change_selector, mnb.b_change_other,b_conf_label, mnb.b_ca_confidence, st_notes_label, mnb.notes_break]) \n",
    "\n",
    "tab5 = HBox(children=[b_col1, b_col2 ])\n",
    "\n",
    "\n",
    "# Tab 6: Table of previous interpretation info for ID\n",
    "tab6 = VBox(children=[mnb.table_widget])\n",
    "\n",
    "\n",
    "# Tab 7: Stretch and time series display\n",
    "im_st = HTML(value=\"<b>Image Stretch:</b>\")\n",
    "\n",
    "stretch_tab = VBox([im_st, mnb.image_band_1, mnb.image_band_2, \n",
    "                    mnb.image_band_3, mnb.stretch_min,\n",
    "                    mnb.stretch_max, mnb.color_check,\n",
    "                    mnb.clear_layers])\n",
    "display_tab = VBox([HTML(value=\"<b>SAMPLE TS</b>\"), mnb.band_selector1, mnb.ylim, mnb.xlim, HTML(value=\"<b>CLICKED TS</b>\"), \n",
    "                     mnb.band_selector2, mnb.ylim2, mnb.xlim2])\n",
    "\n",
    "tab7 = HBox([stretch_tab, display_tab])\n",
    "\n",
    "# Tabulate the different boxes\n",
    "interp_tab = ipywidgets.Tab(children=[tab1, tab2, tab3, tab4, tab5, tab6, tab7], \n",
    "                            layout=ipywidgets.Layout(width='50%', min_height='400px', max_height='400px'))\n",
    "\n",
    "interp_tab.set_title(0, 'Load')\n",
    "interp_tab.set_title(1, 'Controls')\n",
    "interp_tab.set_title(2, 'Land Cover')\n",
    "interp_tab.set_title(3, 'Segment Attrs')\n",
    "interp_tab.set_title(4, 'Break')\n",
    "interp_tab.set_title(5, 'Table')\n",
    "interp_tab.set_title(6, 'Display')\n",
    "\n",
    "# Time series plots\n",
    "fig = ipywidgets.Tab(children=[mnb.fig, mnb.fig3, mnb.fig2])\n",
    "fig.set_title(0, 'Sample TS')\n",
    "fig.set_title(1, 'Sample DOY')\n",
    "fig.set_title(2, 'Clicked TS')\n",
    "\n",
    "# Put the boxes together\n",
    "controls = HBox([mnb.m, interp_tab])\n",
    "\n",
    "# Put the boxes with the time series\n",
    "tabfig = VBox([controls, fig])"
   ]
  },
  {
   "cell_type": "code",
   "execution_count": null,
   "metadata": {
    "scrolled": false
   },
   "outputs": [],
   "source": [
    "display(tabfig)"
   ]
  }
 ],
 "metadata": {
  "kernelspec": {
   "display_name": "Python 3",
   "language": "python",
   "name": "python3"
  },
  "language_info": {
   "codemirror_mode": {
    "name": "ipython",
    "version": 3
   },
   "file_extension": ".py",
   "mimetype": "text/x-python",
   "name": "python",
   "nbconvert_exporter": "python",
   "pygments_lexer": "ipython3",
   "version": "3.6.6"
  }
 },
 "nbformat": 4,
 "nbformat_minor": 2
}
