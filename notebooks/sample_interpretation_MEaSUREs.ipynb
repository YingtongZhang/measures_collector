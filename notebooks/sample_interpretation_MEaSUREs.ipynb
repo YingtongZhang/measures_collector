{
 "cells": [
  {
   "cell_type": "markdown",
   "metadata": {},
   "source": [
    "# tsTools Online: MEaSUREs Training Data Collection"
   ]
  },
  {
   "cell_type": "code",
   "execution_count": 13,
   "metadata": {},
   "outputs": [],
   "source": [
    "import ipywidgets as widgets\n",
    "from ipywidgets import Button, HBox, VBox, Label, BoundedIntText,\\\n",
    "                       HTML, Dropdown,Layout, FloatText\n",
    "\n",
    "import bqplot,datetime, ee, pprint, traitlets, ipyleaflet, geopandas,\\\n",
    "       qgrid, colorsys, sqlite3, os\n",
    "\n",
    "import dateutil.parser\n",
    "import IPython.display\n",
    "import numpy as np\n",
    "import pandas as pd\n",
    "import bqplot.pyplot as plt\n",
    "from dateutil import parser\n",
    "from interface import interface\n",
    "from tsmap import Plot_interface\n",
    "from utils import save_sample\n",
    "\n",
    "\n",
    "from bqplot.interacts import BrushSelector, BrushIntervalSelector\n",
    "\n",
    "# Google sheets API\n",
    "import gspread\n",
    "from oauth2client.service_account import ServiceAccountCredentials\n",
    "\n",
    "# PyCCD\n",
    "import ccd\n",
    "\n",
    "# Turn off pandas warning\n",
    "pd.options.mode.chained_assignment = None\n",
    "\n",
    "# Configure the pretty printing output.\n",
    "pp = pprint.PrettyPrinter(depth=4)"
   ]
  },
  {
   "cell_type": "code",
   "execution_count": 14,
   "metadata": {},
   "outputs": [
    {
     "data": {
      "application/vnd.jupyter.widget-view+json": {
       "model_id": "eed90abb6cc149c3b5d892675bf8319a",
       "version_major": 2,
       "version_minor": 0
      },
      "text/plain": [
       "HTML(value='<style>.container { width:100% !important; }</style>')"
      ]
     },
     "metadata": {},
     "output_type": "display_data"
    }
   ],
   "source": [
    "# Allow Jupyter display to be 100% the width of the browser\n",
    "display(HTML('<style>.container { width:100% !important; }</style>'))"
   ]
  },
  {
   "cell_type": "code",
   "execution_count": 15,
   "metadata": {},
   "outputs": [
    {
     "data": {
      "application/javascript": [
       "// Turn off indefinite output\n",
       "IPython.OutputArea.prototype._should_scroll = function(lines) {\n",
       "    return false;\n",
       "}"
      ],
      "text/plain": [
       "<IPython.core.display.Javascript object>"
      ]
     },
     "metadata": {},
     "output_type": "display_data"
    }
   ],
   "source": [
    "%%javascript\n",
    "// Turn off indefinite output\n",
    "IPython.OutputArea.prototype._should_scroll = function(lines) {\n",
    "    return false;\n",
    "}"
   ]
  },
  {
   "cell_type": "code",
   "execution_count": 16,
   "metadata": {},
   "outputs": [],
   "source": [
    "# Authenticate to the Earth Engine servers, and initialize the ee module.\n",
    "ee.Initialize()"
   ]
  },
  {
   "cell_type": "code",
   "execution_count": 17,
   "metadata": {
    "scrolled": false
   },
   "outputs": [],
   "source": [
    "# Define interface objects\n",
    "newInterface = interface()\n",
    "newPlot = Plot_interface(newInterface)"
   ]
  },
  {
   "cell_type": "code",
   "execution_count": 18,
   "metadata": {
    "scrolled": true
   },
   "outputs": [],
   "source": [
    "# Non-class buttons and functions. Useful for interacting between objects. \n",
    "save_button = widgets.Button(value=False, description='Save', disabled=False,\n",
    "                button_style='')\n",
    "\n",
    "def do_save_sample(a):\n",
    "    # Save sample based on widgets and update the table. \n",
    "    # The button cannot pass an argument, so it needs to be done this way.\n",
    "    save_sample(newInterface, newPlot)\n",
    "    newPlot.change_table()\n",
    "    \n",
    "save_button.on_click(do_save_sample)"
   ]
  },
  {
   "cell_type": "code",
   "execution_count": 19,
   "metadata": {},
   "outputs": [],
   "source": [
    "# Organize all the pieces\n",
    "\n",
    "# Right box\n",
    "\n",
    "# Load data and spreadsheet\n",
    "load_data = HBox(children=[newInterface.load_button, newInterface.valid_load])\n",
    "tab0 = VBox(children=[newInterface.spreadsheet, newInterface.spreadName, newInterface.sampleWidget,\n",
    "                      load_data])\n",
    "\n",
    "# Land cover information\n",
    "dropBox1= VBox(children=[newInterface.drop1,\n",
    "                         newInterface.drop2,\n",
    "                         newInterface.drop3,\n",
    "                         newInterface.drop4])\n",
    "\n",
    "dropBox2= VBox(children=[newInterface.drop5,\n",
    "                         newInterface.drop6,\n",
    "                         newInterface.drop7,\n",
    "                         newInterface.drop8,\n",
    "                         newInterface.veg_selector])\n",
    "dropBoxBoth = HBox(children=[dropBox1, dropBox2])\n",
    "tab1 = VBox(children=[dropBoxBoth])\n",
    "\n",
    "# Change agents\n",
    "tab2 = VBox(children=[newInterface.drop9,\n",
    "                      newInterface.change_selector,\n",
    "                      newInterface.change_other,\n",
    "                      newInterface.break_cb,\n",
    "                      newInterface.break_years])\n",
    "\n",
    "# Confidence and save\n",
    "tab3 = VBox(children=[newPlot.error_label,\n",
    "                      newInterface.confidence,\n",
    "                      newInterface.years,\n",
    "                      newInterface.notes,\n",
    "                      newInterface.valid,\n",
    "                      save_button])\n",
    "tab4 = VBox(children=[newPlot.table_widget])\n",
    "\n",
    "# Tabulate the different boxes\n",
    "interp_tab = widgets.Tab(children=[tab0, tab1, tab2, tab3, tab4], layout=Layout(width='100%', min_height='270px', max_height='270px'))\n",
    "interp_tab.set_title(0, 'Load')\n",
    "interp_tab.set_title(1, 'Land Cover')\n",
    "interp_tab.set_title(2, 'Change Information')\n",
    "interp_tab.set_title(3, 'Interpretation')\n",
    "interp_tab.set_title(4, 'Table')\n",
    "\n",
    "\n",
    "# Left box\n",
    "navigate_samples = HBox(children=[newPlot.previous_pt, newPlot.next_pt])\n",
    "sample_pyccd = HBox([newPlot.pyccd_button, newPlot.pt_message, newPlot.kml_link])\n",
    "sample_ts_box = VBox([HTML(value=\"<b>SAMPLE TS</b>\"), newPlot.band_selector1, newPlot.ylim, newPlot.xlim, navigate_samples, sample_pyccd])\n",
    "clicked_ts_box = VBox([HTML(value=\"<b>CLICKED TS</b>\"), newPlot.band_selector2, newPlot.ylim2, newPlot.xlim2, newPlot.pyccd_button2, newPlot.idBox])\n",
    "ts_tab = HBox([sample_ts_box, clicked_ts_box])\n",
    "stretch_tab = VBox([Plot_interface.image_band_1, Plot_interface.image_band_2, \n",
    "                    Plot_interface.image_band_3, Plot_interface.stretch_min,\n",
    "                    Plot_interface.stretch_max, Plot_interface.color_check,\n",
    "                    Plot_interface.clear_layers])\n",
    "display_tab = widgets.Tab(children=[ts_tab, stretch_tab], layout=Layout(width='50%', min_height='270px', max_height='270px'))\n",
    "\n",
    "display_tab.set_title(0, 'Controls')\n",
    "display_tab.set_title(1, 'Display')\n",
    "\n",
    "# Time series plots\n",
    "fig = widgets.Tab(children=[newPlot.fig, newPlot.fig3, newPlot.fig2])\n",
    "fig.set_title(0, 'Sample TS')\n",
    "fig.set_title(1, 'Sample DOY')\n",
    "fig.set_title(2, 'Clicked TS')\n",
    "\n",
    "# Put the boxes together\n",
    "controls = HBox([display_tab, interp_tab])\n",
    "\n",
    "# Put the boxes with the time series\n",
    "tabfig = VBox([controls, fig])"
   ]
  },
  {
   "cell_type": "code",
   "execution_count": 20,
   "metadata": {},
   "outputs": [
    {
     "data": {
      "application/vnd.jupyter.widget-view+json": {
       "model_id": "01783732905c4a3c89696adfd7fc28d8",
       "version_major": 2,
       "version_minor": 0
      },
      "text/plain": [
       "Map(basemap={'url': 'http://server.arcgisonline.com/ArcGIS/rest/services/World_Street_Map/MapServer/tile/{z}/{…"
      ]
     },
     "metadata": {},
     "output_type": "display_data"
    },
    {
     "data": {
      "application/vnd.jupyter.widget-view+json": {
       "model_id": "80945af36cfd46c395d99ddc4c8314db",
       "version_major": 2,
       "version_minor": 0
      },
      "text/plain": [
       "VBox(children=(HBox(children=(Tab(children=(HBox(children=(VBox(children=(HTML(value='<b>SAMPLE TS</b>'), Drop…"
      ]
     },
     "metadata": {},
     "output_type": "display_data"
    }
   ],
   "source": [
    "# Display everything\n",
    "display(newPlot.m)\n",
    "display(tabfig)\n"
   ]
  },
  {
   "cell_type": "code",
   "execution_count": null,
   "metadata": {},
   "outputs": [],
   "source": []
  },
  {
   "cell_type": "code",
   "execution_count": null,
   "metadata": {},
   "outputs": [],
   "source": []
  }
 ],
 "metadata": {
  "kernelspec": {
   "display_name": "Python 3",
   "language": "python",
   "name": "python3"
  },
  "language_info": {
   "codemirror_mode": {
    "name": "ipython",
    "version": 3
   },
   "file_extension": ".py",
   "mimetype": "text/x-python",
   "name": "python",
   "nbconvert_exporter": "python",
   "pygments_lexer": "ipython3",
   "version": "3.6.5"
  }
 },
 "nbformat": 4,
 "nbformat_minor": 2
}
